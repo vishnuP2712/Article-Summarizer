{
 "cells": [
  {
   "cell_type": "code",
   "execution_count": 1,
   "id": "829b4842",
   "metadata": {},
   "outputs": [],
   "source": [
    "import requests\n",
    "from bs4 import BeautifulSoup\n",
    "from transformers import pipeline"
   ]
  },
  {
   "cell_type": "code",
   "execution_count": 6,
   "id": "a3e455c5",
   "metadata": {},
   "outputs": [],
   "source": [
    "def summarize_article(url):\n",
    "    \"\"\"\n",
    "    Fetches, parses, and summarizes a news article from a given URL.\n",
    "    \"\"\"\n",
    "    print(f\"Fetching article from: {url}\")\n",
    "    # Step 1: Fetch the HTML content\n",
    "    try:\n",
    "        response = requests.get(url)\n",
    "        response.raise_for_status() \n",
    "        html_content = response.text\n",
    "    except requests.exceptions.RequestException as e:\n",
    "        print(f\"Error fetching the URL: {e}\")\n",
    "        return\n",
    "    # Step 2: Parse the HTML and extract the main text\n",
    "    soup = BeautifulSoup(html_content, 'html.parser')\n",
    "    paragraphs = soup.find_all('p')\n",
    "    long_text = ' '.join([p.get_text() for p in paragraphs])\n",
    "\n",
    "    if not long_text.strip():\n",
    "        print(\"Could not find any paragraph text on the page. Exiting.\")\n",
    "        return\n",
    "     # Step 3: Create and use the summarization pipeline\n",
    "    try:\n",
    "        print(\"Initializing summarization model...\")\n",
    "        summarizer = pipeline(\"summarization\")\n",
    "        \n",
    "        print(\"Generating summary...\")\n",
    "        summary = summarizer(long_text, max_length=150, min_length=40, do_sample=False, truncation=True)\n",
    "\n",
    "        # Step 4: Print the final summary\n",
    "        print(\"\\n------------------\\n\")\n",
    "        print(\"Generated Summary:\")\n",
    "        print(summary[0]['summary_text'])\n",
    "\n",
    "    except Exception as e:\n",
    "        print(f\"An error occurred during summarization: {e}\")\n"
   ]
  },
  {
   "cell_type": "code",
   "execution_count": 7,
   "id": "d45ed824",
   "metadata": {},
   "outputs": [
    {
     "name": "stdout",
     "output_type": "stream",
     "text": [
      "Fetching article from: https://www.cbsnews.com/news/senate-debate-trump-one-big-beautiful-bill/\n"
     ]
    },
    {
     "name": "stderr",
     "output_type": "stream",
     "text": [
      "No model was supplied, defaulted to sshleifer/distilbart-cnn-12-6 and revision a4f8f3e (https://huggingface.co/sshleifer/distilbart-cnn-12-6).\n",
      "Using a pipeline without specifying a model name and revision in production is not recommended.\n"
     ]
    },
    {
     "name": "stdout",
     "output_type": "stream",
     "text": [
      "Initializing summarization model...\n"
     ]
    },
    {
     "name": "stderr",
     "output_type": "stream",
     "text": [
      "Device set to use cpu\n"
     ]
    },
    {
     "name": "stdout",
     "output_type": "stream",
     "text": [
      "Generating summary...\n",
      "\n",
      "------------------\n",
      "\n",
      "Generated Summary:\n",
      " The Senate is set to kick off what's expected to be a marathon session Monday . The chamber debated President Trump's massive tax package into the wee hours of the morning . The bill is the centerpiece legislation of Mr. Trump's second term agenda . The House will need to approve changes to the bill before it heads to the president's desk for his signature .\n"
     ]
    }
   ],
   "source": [
    "# --- Main part of the script ---\n",
    "if __name__ == \"__main__\":\n",
    "    # Prompt the user to enter a URL\n",
    "    article_url = input(\"Please enter the article URL and press Enter: \")\n",
    "    \n",
    "    # Check if a URL was entered before proceeding\n",
    "    if article_url:\n",
    "        summarize_article(article_url)\n",
    "    else:\n",
    "        print(\"No URL entered. Exiting.\")"
   ]
  },
  {
   "cell_type": "code",
   "execution_count": null,
   "id": "06765c7d",
   "metadata": {},
   "outputs": [],
   "source": []
  }
 ],
 "metadata": {
  "kernelspec": {
   "display_name": "Python 3",
   "language": "python",
   "name": "python3"
  },
  "language_info": {
   "codemirror_mode": {
    "name": "ipython",
    "version": 3
   },
   "file_extension": ".py",
   "mimetype": "text/x-python",
   "name": "python",
   "nbconvert_exporter": "python",
   "pygments_lexer": "ipython3",
   "version": "3.12.10"
  }
 },
 "nbformat": 4,
 "nbformat_minor": 5
}
