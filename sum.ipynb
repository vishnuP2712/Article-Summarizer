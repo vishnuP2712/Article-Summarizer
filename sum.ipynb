{
 "cells": [
  {
   "cell_type": "code",
   "execution_count": 2,
   "id": "07200a63",
   "metadata": {},
   "outputs": [],
   "source": [
    "import requests\n",
    "from bs4 import BeautifulSoup\n",
    "from transformers import pipeline"
   ]
  },
  {
   "cell_type": "code",
   "execution_count": 3,
   "id": "4398f1f7",
   "metadata": {},
   "outputs": [],
   "source": [
    "# Step 1: Define the URL of the article you want to summarize\n",
    "# You can change this URL to any news article you like.\n",
    "article_url = \"https://apnews.com/article/trump-promises-greenland-canada-gaza-headlines-30c646fefc30bf028577b1b65f955eb4\""
   ]
  },
  {
   "cell_type": "code",
   "execution_count": 4,
   "id": "e132f68f",
   "metadata": {},
   "outputs": [],
   "source": [
    "# Step 2: Fetch the HTML content from the URL\n",
    "try:\n",
    "    response = requests.get(article_url)\n",
    "    response.raise_for_status()  # Raise an exception for bad status codes (4xx or 5xx)\n",
    "    html_content = response.text\n",
    "except requests.exceptions.RequestException as e:\n",
    "    print(f\"Error fetching the URL: {e}\")\n",
    "    exit()"
   ]
  },
  {
   "cell_type": "code",
   "execution_count": 5,
   "id": "07ab3fc8",
   "metadata": {},
   "outputs": [],
   "source": [
    "# Step 3: Parse the HTML and extract the main text\n",
    "# We use BeautifulSoup to find all the paragraph (<p>) tags and join them together.\n",
    "# This is a general approach and might need adjustment for different website layouts.\n",
    "soup = BeautifulSoup(html_content, 'html.parser')\n",
    "paragraphs = soup.find_all('p')\n",
    "long_text = ' '.join([p.get_text() for p in paragraphs])"
   ]
  },
  {
   "cell_type": "code",
   "execution_count": 6,
   "id": "36078fe9",
   "metadata": {},
   "outputs": [],
   "source": [
    "# Check if any text was extracted\n",
    "if not long_text.strip():\n",
    "    print(\"Could not find any paragraph text on the page. Exiting.\")\n",
    "    exit()"
   ]
  },
  {
   "cell_type": "code",
   "execution_count": 7,
   "id": "ff4998a7",
   "metadata": {},
   "outputs": [
    {
     "name": "stderr",
     "output_type": "stream",
     "text": [
      "No model was supplied, defaulted to sshleifer/distilbart-cnn-12-6 and revision a4f8f3e (https://huggingface.co/sshleifer/distilbart-cnn-12-6).\n",
      "Using a pipeline without specifying a model name and revision in production is not recommended.\n",
      "Device set to use cpu\n"
     ]
    },
    {
     "name": "stdout",
     "output_type": "stream",
     "text": [
      "Original Article URL: https://apnews.com/article/trump-promises-greenland-canada-gaza-headlines-30c646fefc30bf028577b1b65f955eb4\n",
      "\n",
      "------------------\n",
      "\n",
      "Generated Summary:\n",
      " President Donald Trump loves to toss out startling ideas aimed at dropping jaws, commandeering headlines and bolstering his political brand . Never in modern times has a president offered so many off-the-cuff statements with such a potential for wide, even global, impact . His sometimes implausible notions may become reality, or — through repetition — no longer sound so outlandish .\n"
     ]
    }
   ],
   "source": [
    "# Step 4: Create and use the summarization pipeline\n",
    "try:\n",
    "    # Initialize the summarization model\n",
    "    summarizer = pipeline(\"summarization\")\n",
    "\n",
    "    # Generate the summary\n",
    "    # Added truncation=True to handle articles longer than the model's limit.\n",
    "    summary = summarizer(long_text, max_length=250, min_length=40, do_sample=False, truncation=True)\n",
    "\n",
    "    # Step 5: Print the final summary\n",
    "    print(\"Original Article URL:\", article_url)\n",
    "    print(\"\\n------------------\\n\")\n",
    "    print(\"Generated Summary:\")\n",
    "    print(summary[0]['summary_text'])\n",
    "\n",
    "except Exception as e:\n",
    "    print(f\"An error occurred during summarization: {e}\")"
   ]
  },
  {
   "cell_type": "code",
   "execution_count": null,
   "id": "79c2f951",
   "metadata": {},
   "outputs": [],
   "source": []
  }
 ],
 "metadata": {
  "kernelspec": {
   "display_name": "Python 3",
   "language": "python",
   "name": "python3"
  },
  "language_info": {
   "codemirror_mode": {
    "name": "ipython",
    "version": 3
   },
   "file_extension": ".py",
   "mimetype": "text/x-python",
   "name": "python",
   "nbconvert_exporter": "python",
   "pygments_lexer": "ipython3",
   "version": "3.12.10"
  }
 },
 "nbformat": 4,
 "nbformat_minor": 5
}
